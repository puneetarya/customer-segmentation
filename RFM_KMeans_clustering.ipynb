{
 "cells": [
  {
   "cell_type": "markdown",
   "id": "extraordinary-sweden",
   "metadata": {},
   "source": [
    "# Customer Segmentation using K-Means Clustering\n",
    "\n",
    "## Introduction \n",
    "In this project, the Recency Frequency, and Monetary values computed from customer transaction data. The RFM values are used to form groups of customers. Un-supervised machine learning algorithm; K-Means clustering was used. "
   ]
  },
  {
   "cell_type": "code",
   "execution_count": 2,
   "id": "broadband-opera",
   "metadata": {},
   "outputs": [],
   "source": [
    "## necessary imports\n",
    "\n",
    "import pandas as pd\n",
    "\n",
    "from datetime import datetime as dt\n",
    "from datetime import timedelta\n",
    "\n",
    "import matplotlib.pyplot as plt\n",
    "import seaborn as sns\n",
    "\n",
    "import numpy as np"
   ]
  },
  {
   "cell_type": "code",
   "execution_count": 3,
   "id": "refined-recruitment",
   "metadata": {},
   "outputs": [],
   "source": [
    "# necessary import for data standardization and machine learning model\n",
    "\n",
    "from sklearn.preprocessing import StandardScaler\n",
    "from sklearn.cluster import KMeans"
   ]
  },
  {
   "cell_type": "code",
   "execution_count": 4,
   "id": "otherwise-winner",
   "metadata": {},
   "outputs": [],
   "source": [
    "# read csv file\n",
    "\n",
    "customer_data = pd.read_csv('./dataset/online.csv')"
   ]
  },
  {
   "cell_type": "markdown",
   "id": "forbidden-seafood",
   "metadata": {},
   "source": [
    "## Compute RFM values"
   ]
  },
  {
   "cell_type": "code",
   "execution_count": 5,
   "id": "arabic-blink",
   "metadata": {},
   "outputs": [],
   "source": [
    "customer_data['InvoiceDate'] = pd.to_datetime(customer_data['InvoiceDate'])\n",
    "customer_data['InvoiceDate'] = customer_data['InvoiceDate'].apply(lambda x: dt(x.year, x.month, x.day))"
   ]
  },
  {
   "cell_type": "code",
   "execution_count": 6,
   "id": "racial-bidder",
   "metadata": {},
   "outputs": [],
   "source": [
    "customer_data['OrderAmt'] = customer_data['Quantity'] * customer_data['UnitPrice']"
   ]
  },
  {
   "cell_type": "code",
   "execution_count": 7,
   "id": "vietnamese-navigation",
   "metadata": {},
   "outputs": [],
   "source": [
    "reference_date = max(customer_data['InvoiceDate']) + timedelta(days=1)"
   ]
  },
  {
   "cell_type": "code",
   "execution_count": 8,
   "id": "detected-victim",
   "metadata": {},
   "outputs": [],
   "source": [
    "RFM = customer_data.groupby(['CustomerID']).agg({'InvoiceDate' : lambda x : (reference_date-max(x)).days,\n",
    "                                                 'InvoiceNo' : 'count',\n",
    "                                                 'OrderAmt' : 'sum'\n",
    "                                                })"
   ]
  },
  {
   "cell_type": "code",
   "execution_count": 9,
   "id": "violent-patrick",
   "metadata": {},
   "outputs": [],
   "source": [
    "RFM.rename(columns = {'InvoiceDate':'Recency',\n",
    "                  'InvoiceNo': 'Frequency',\n",
    "                  'OrderAmt':'Monetary'}, inplace=True)"
   ]
  },
  {
   "cell_type": "code",
   "execution_count": 10,
   "id": "animal-aluminum",
   "metadata": {},
   "outputs": [
    {
     "data": {
      "text/html": [
       "<div>\n",
       "<style scoped>\n",
       "    .dataframe tbody tr th:only-of-type {\n",
       "        vertical-align: middle;\n",
       "    }\n",
       "\n",
       "    .dataframe tbody tr th {\n",
       "        vertical-align: top;\n",
       "    }\n",
       "\n",
       "    .dataframe thead th {\n",
       "        text-align: right;\n",
       "    }\n",
       "</style>\n",
       "<table border=\"1\" class=\"dataframe\">\n",
       "  <thead>\n",
       "    <tr style=\"text-align: right;\">\n",
       "      <th></th>\n",
       "      <th>Recency</th>\n",
       "      <th>Frequency</th>\n",
       "      <th>Monetary</th>\n",
       "    </tr>\n",
       "    <tr>\n",
       "      <th>CustomerID</th>\n",
       "      <th></th>\n",
       "      <th></th>\n",
       "      <th></th>\n",
       "    </tr>\n",
       "  </thead>\n",
       "  <tbody>\n",
       "    <tr>\n",
       "      <th>12747</th>\n",
       "      <td>3</td>\n",
       "      <td>27</td>\n",
       "      <td>992.82</td>\n",
       "    </tr>\n",
       "    <tr>\n",
       "      <th>12748</th>\n",
       "      <td>1</td>\n",
       "      <td>967</td>\n",
       "      <td>7522.06</td>\n",
       "    </tr>\n",
       "    <tr>\n",
       "      <th>12749</th>\n",
       "      <td>4</td>\n",
       "      <td>37</td>\n",
       "      <td>813.45</td>\n",
       "    </tr>\n",
       "    <tr>\n",
       "      <th>12820</th>\n",
       "      <td>4</td>\n",
       "      <td>17</td>\n",
       "      <td>268.02</td>\n",
       "    </tr>\n",
       "    <tr>\n",
       "      <th>12822</th>\n",
       "      <td>71</td>\n",
       "      <td>9</td>\n",
       "      <td>146.15</td>\n",
       "    </tr>\n",
       "  </tbody>\n",
       "</table>\n",
       "</div>"
      ],
      "text/plain": [
       "            Recency  Frequency  Monetary\n",
       "CustomerID                              \n",
       "12747             3         27    992.82\n",
       "12748             1        967   7522.06\n",
       "12749             4         37    813.45\n",
       "12820             4         17    268.02\n",
       "12822            71          9    146.15"
      ]
     },
     "execution_count": 10,
     "metadata": {},
     "output_type": "execute_result"
    }
   ],
   "source": [
    "RFM.head()"
   ]
  },
  {
   "cell_type": "markdown",
   "id": "medieval-thailand",
   "metadata": {},
   "source": [
    "## Data Preprocessing for K-Means\n",
    "1. skew data require Log transformation\n",
    "2. K-means require data to have mean=0 and standard deviation=1; we used standard scaler "
   ]
  },
  {
   "cell_type": "code",
   "execution_count": 11,
   "id": "differential-stroke",
   "metadata": {},
   "outputs": [
    {
     "name": "stdout",
     "output_type": "stream",
     "text": [
      "mean:  [-0.  0.  0.]\n",
      "std:  [1. 1. 1.]\n"
     ]
    }
   ],
   "source": [
    "# data pre-processing\n",
    "\n",
    "RFM_log = np.log(RFM)\n",
    "scaler = StandardScaler()\n",
    "scaler.fit(RFM)\n",
    "RFM_normalized = scaler.transform(RFM)\n",
    "print('mean: ', RFM_normalized.mean(axis=0).round(2))\n",
    "print('std: ', RFM_normalized.std(axis=0).round(2))"
   ]
  },
  {
   "cell_type": "markdown",
   "id": "champion-coalition",
   "metadata": {},
   "source": [
    "## K-means clustering to obtain optimal clusters"
   ]
  },
  {
   "cell_type": "code",
   "execution_count": 12,
   "id": "ready-removal",
   "metadata": {},
   "outputs": [],
   "source": [
    "# n_clusters = 3 obtained using elbow method \n",
    "\n",
    "kmeans = KMeans(n_clusters=3, random_state=1)\n",
    "kmeans.fit(RFM_normalized)\n",
    "cluster_labels = kmeans.labels_"
   ]
  },
  {
   "cell_type": "code",
   "execution_count": 13,
   "id": "documented-physiology",
   "metadata": {},
   "outputs": [],
   "source": [
    "RFM = RFM.assign(Cluster = cluster_labels)"
   ]
  },
  {
   "cell_type": "code",
   "execution_count": 14,
   "id": "suspected-eagle",
   "metadata": {},
   "outputs": [
    {
     "data": {
      "text/html": [
       "<div>\n",
       "<style scoped>\n",
       "    .dataframe tbody tr th:only-of-type {\n",
       "        vertical-align: middle;\n",
       "    }\n",
       "\n",
       "    .dataframe tbody tr th {\n",
       "        vertical-align: top;\n",
       "    }\n",
       "\n",
       "    .dataframe thead tr th {\n",
       "        text-align: left;\n",
       "    }\n",
       "\n",
       "    .dataframe thead tr:last-of-type th {\n",
       "        text-align: right;\n",
       "    }\n",
       "</style>\n",
       "<table border=\"1\" class=\"dataframe\">\n",
       "  <thead>\n",
       "    <tr>\n",
       "      <th></th>\n",
       "      <th>Recency</th>\n",
       "      <th>Frequency</th>\n",
       "      <th colspan=\"2\" halign=\"left\">Monetary</th>\n",
       "    </tr>\n",
       "    <tr>\n",
       "      <th></th>\n",
       "      <th>mean</th>\n",
       "      <th>mean</th>\n",
       "      <th>mean</th>\n",
       "      <th>count</th>\n",
       "    </tr>\n",
       "    <tr>\n",
       "      <th>Cluster</th>\n",
       "      <th></th>\n",
       "      <th></th>\n",
       "      <th></th>\n",
       "      <th></th>\n",
       "    </tr>\n",
       "  </thead>\n",
       "  <tbody>\n",
       "    <tr>\n",
       "      <th>0</th>\n",
       "      <td>23.0</td>\n",
       "      <td>394.0</td>\n",
       "      <td>16485.0</td>\n",
       "      <td>15</td>\n",
       "    </tr>\n",
       "    <tr>\n",
       "      <th>1</th>\n",
       "      <td>42.0</td>\n",
       "      <td>22.0</td>\n",
       "      <td>388.0</td>\n",
       "      <td>2723</td>\n",
       "    </tr>\n",
       "    <tr>\n",
       "      <th>2</th>\n",
       "      <td>245.0</td>\n",
       "      <td>6.0</td>\n",
       "      <td>109.0</td>\n",
       "      <td>963</td>\n",
       "    </tr>\n",
       "  </tbody>\n",
       "</table>\n",
       "</div>"
      ],
      "text/plain": [
       "        Recency Frequency Monetary      \n",
       "           mean      mean     mean count\n",
       "Cluster                                 \n",
       "0          23.0     394.0  16485.0    15\n",
       "1          42.0      22.0    388.0  2723\n",
       "2         245.0       6.0    109.0   963"
      ]
     },
     "execution_count": 14,
     "metadata": {},
     "output_type": "execute_result"
    }
   ],
   "source": [
    "RFM.groupby(['Cluster']).agg({\n",
    "'Recency': 'mean',\n",
    "'Frequency': 'mean',\n",
    "'Monetary': ['mean', 'count'],\n",
    "}).round(0)"
   ]
  },
  {
   "cell_type": "markdown",
   "id": "compatible-marriage",
   "metadata": {},
   "source": [
    "### Observations\n",
    "1. Cluster 0 has the highest monetary value, this include loyal customers\n",
    "2. Cluster 1 has lower recency in comparison to cluster 2\n",
    "3. Cluster 2 has lowest monetary value, the customers might have churned since recency is 245 on average. "
   ]
  },
  {
   "cell_type": "markdown",
   "id": "proved-river",
   "metadata": {},
   "source": [
    "### Comparing clusters using snake plot"
   ]
  },
  {
   "cell_type": "code",
   "execution_count": 15,
   "id": "excessive-promotion",
   "metadata": {},
   "outputs": [],
   "source": [
    "RFM_normalized = pd.DataFrame(RFM_normalized,\n",
    "index=RFM.index,\n",
    "columns=RFM.columns[:-1])\n",
    "RFM_normalized['Cluster'] = RFM['Cluster']"
   ]
  },
  {
   "cell_type": "code",
   "execution_count": 16,
   "id": "simplified-steam",
   "metadata": {},
   "outputs": [],
   "source": [
    "datamart_melt = pd.melt(RFM_normalized.reset_index(),\n",
    "id_vars=['CustomerID', 'Cluster'],\n",
    "value_vars=['Recency', 'Frequency', 'Monetary'],\n",
    "var_name='Attribute',\n",
    "value_name='Value')"
   ]
  },
  {
   "cell_type": "code",
   "execution_count": 17,
   "id": "seven-seating",
   "metadata": {},
   "outputs": [
    {
     "data": {
      "text/plain": [
       "<AxesSubplot:title={'center':'Snake plot of standardized variables'}, xlabel='Attribute', ylabel='Value'>"
      ]
     },
     "execution_count": 17,
     "metadata": {},
     "output_type": "execute_result"
    },
    {
     "data": {
      "image/png": "[encoded data removed]",
      "text/plain": [
       "<Figure size 432x288 with 1 Axes>"
      ]
     },
     "metadata": {
      "needs_background": "light"
     },
     "output_type": "display_data"
    }
   ],
   "source": [
    "plt.title('Snake plot of standardized variables')\n",
    "sns.lineplot(x=\"Attribute\", y=\"Value\", hue='Cluster', data=datamart_melt)"
   ]
  },
  {
   "cell_type": "code",
   "execution_count": null,
   "id": "governmental-dragon",
   "metadata": {},
   "outputs": [],
   "source": []
  }
 ],
 "metadata": {
  "kernelspec": {
   "display_name": "Python 3",
   "language": "python",
   "name": "python3"
  },
  "language_info": {
   "codemirror_mode": {
    "name": "ipython",
    "version": 3
   },
   "file_extension": ".py",
   "mimetype": "text/x-python",
   "name": "python",
   "nbconvert_exporter": "python",
   "pygments_lexer": "ipython3",
   "version": "3.7.6"
  }
 },
 "nbformat": 4,
 "nbformat_minor": 5
}
